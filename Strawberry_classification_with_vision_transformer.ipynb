{
  "cells": [
    {
      "cell_type": "markdown",
      "metadata": {
        "id": "zZT_ZV7OL8Zc"
      },
      "source": [
        "## Setup"
      ]
    },
    {
      "cell_type": "code",
      "execution_count": null,
      "metadata": {
        "colab": {
          "base_uri": "https://localhost:8080/"
        },
        "id": "D9bvKQay4c3C",
        "outputId": "8bd8120b-aa64-41b7-95ec-9a8fb64451e7"
      },
      "outputs": [
        {
          "name": "stdout",
          "output_type": "stream",
          "text": [
            "Looking in indexes: https://pypi.org/simple, https://us-python.pkg.dev/colab-wheels/public/simple/\n",
            "Collecting tensorflow-addons\n",
            "  Downloading tensorflow_addons-0.17.1-cp37-cp37m-manylinux_2_17_x86_64.manylinux2014_x86_64.whl (1.1 MB)\n",
            "\u001b[K     |████████████████████████████████| 1.1 MB 4.4 MB/s \n",
            "\u001b[?25hRequirement already satisfied: typeguard>=2.7 in /usr/local/lib/python3.7/dist-packages (from tensorflow-addons) (2.7.1)\n",
            "Requirement already satisfied: packaging in /usr/local/lib/python3.7/dist-packages (from tensorflow-addons) (21.3)\n",
            "Requirement already satisfied: pyparsing!=3.0.5,>=2.0.2 in /usr/local/lib/python3.7/dist-packages (from packaging->tensorflow-addons) (3.0.9)\n",
            "Installing collected packages: tensorflow-addons\n",
            "Successfully installed tensorflow-addons-0.17.1\n"
          ]
        }
      ],
      "source": [
        "!pip install -U tensorflow-addons\n"
      ]
    },
    {
      "cell_type": "code",
      "execution_count": null,
      "metadata": {
        "id": "2kNYWbQLL8Zc"
      },
      "outputs": [],
      "source": [
        "import numpy as np\n",
        "import tensorflow as tf\n",
        "from tensorflow import keras\n",
        "from tensorflow.keras import layers\n",
        "import tensorflow_addons as tfa"
      ]
    },
    {
      "cell_type": "markdown",
      "metadata": {
        "id": "FiFkBgz4L8Ze"
      },
      "source": [
        "## Prepare the data"
      ]
    },
    {
      "cell_type": "code",
      "execution_count": null,
      "metadata": {
        "colab": {
          "base_uri": "https://localhost:8080/"
        },
        "id": "6MR1PpABMiD-",
        "outputId": "60237714-674d-4ac1-c8f4-0dffe7a0ea0a"
      },
      "outputs": [
        {
          "name": "stdout",
          "output_type": "stream",
          "text": [
            "Mounted at /content/drive\n"
          ]
        }
      ],
      "source": [
        "from google.colab import drive\n",
        "drive.mount('/content/drive')"
      ]
    },
    {
      "cell_type": "code",
      "execution_count": null,
      "metadata": {
        "colab": {
          "base_uri": "https://localhost:8080/"
        },
        "id": "9_uJXhHpL8Zf",
        "outputId": "f13cc45d-d6a2-41d8-95d9-cacc27a9becf"
      },
      "outputs": [
        {
          "name": "stdout",
          "output_type": "stream",
          "text": [
            "x_train shape: (1930, 80, 80, 3) - y_train shape: (1930,)\n",
            "x_test shape: (1930, 80, 80, 3) - y_test shape: (1930,)\n"
          ]
        }
      ],
      "source": [
        "num_classes = 2\n",
        "input_shape = (80, 80, 3)\n",
        "import cv2\n",
        "import os\n",
        "\n",
        "train_data = dict()\n",
        "train_data['image'] = []\n",
        "train_data['label'] = []\n",
        "\n",
        "train_data_path=\"/content/drive/MyDrive/Project/Train\"\n",
        "for subdir in os.listdir(train_data_path):\n",
        "  current_path = os.path.join(train_data_path, subdir)\n",
        "  for file in os.listdir(current_path):\n",
        "    if file[-3:] in {'jpg', 'png'}:\n",
        "      img = cv2.imread(os.path.join(current_path, file))\n",
        "      img=cv2.resize(img, (80,80), interpolation = cv2.INTER_AREA)\n",
        "      train_data['image'].append(img)\n",
        "      if (subdir==\"Ripe\"):\n",
        "        train_data['label'].append(0)\n",
        "      else:\n",
        "        train_data['label'].append(1)\n",
        "      \n",
        "##########################################################################\n",
        "\n",
        "test_data = dict()\n",
        "test_data['image'] = []\n",
        "test_data['label'] = []\n",
        "\n",
        "test_data_path=\"/content/drive/MyDrive/project_data/Test\"\n",
        "for subdir in os.listdir(train_data_path):\n",
        "  current_path = os.path.join(train_data_path, subdir)\n",
        "  for file in os.listdir(current_path):\n",
        "    if file[-3:] in {'jpg', 'png'}:\n",
        "      img = cv2.imread(os.path.join(current_path, file))\n",
        "      img=cv2.resize(img, (80,80), interpolation = cv2.INTER_AREA)\n",
        "      test_data['image'].append(img)\n",
        "      if (subdir==\"Ripe\"):\n",
        "        test_data['label'].append(0)\n",
        "      else:\n",
        "        test_data['label'].append(1)\n",
        "##############################################################################\n",
        "\n",
        "x_train = np.array(test_data['image'])\n",
        "y_train = np.array(test_data['label'])\n",
        "\n",
        "x_test = np.array(test_data['image'])\n",
        "y_test = np.array(test_data['label'])\n",
        "\n",
        "#(x_train, y_train), (x_test, y_test) = keras.datasets.cifar100.load_data()\n",
        "\n",
        "print(f\"x_train shape: {x_train.shape} - y_train shape: {y_train.shape}\")\n",
        "print(f\"x_test shape: {x_test.shape} - y_test shape: {y_test.shape}\")\n"
      ]
    },
    {
      "cell_type": "markdown",
      "metadata": {
        "id": "bcLvFDeUL8Zf"
      },
      "source": [
        "## Configure the hyperparameters"
      ]
    },
    {
      "cell_type": "code",
      "execution_count": null,
      "metadata": {
        "id": "BCrGJGI-L8Zg"
      },
      "outputs": [],
      "source": [
        "learning_rate = 0.001\n",
        "weight_decay = 0.0001\n",
        "batch_size = 256\n",
        "num_epochs = 100\n",
        "image_size = 80  # We'll resize input images to this size\n",
        "patch_size = 6  # Size of the patches to be extract from the input images\n",
        "num_patches = (image_size // patch_size) ** 2\n",
        "projection_dim = 64\n",
        "num_heads = 4\n",
        "transformer_units = [\n",
        "    projection_dim * 2,\n",
        "    projection_dim,\n",
        "]  # Size of the transformer layers\n",
        "transformer_layers = 8\n",
        "mlp_head_units = [2048, 1024]  # Size of the dense layers of the final classifier\n"
      ]
    },
    {
      "cell_type": "markdown",
      "metadata": {
        "id": "Ow5_6xBuL8Zg"
      },
      "source": [
        "## Use data augmentation"
      ]
    },
    {
      "cell_type": "code",
      "execution_count": null,
      "metadata": {
        "id": "mvvfEbb7L8Zh"
      },
      "outputs": [],
      "source": [
        "data_augmentation = keras.Sequential(\n",
        "    [\n",
        "        layers.Normalization(),\n",
        "        layers.Resizing(image_size, image_size),\n",
        "        layers.RandomFlip(\"horizontal\"),\n",
        "        layers.RandomRotation(factor=0.02),\n",
        "        layers.RandomZoom(\n",
        "            height_factor=0.2, width_factor=0.2\n",
        "        ),\n",
        "    ],\n",
        "    name=\"data_augmentation\",\n",
        ")\n",
        "# Compute the mean and the variance of the training data for normalization.\n",
        "data_augmentation.layers[0].adapt(x_train)\n"
      ]
    },
    {
      "cell_type": "markdown",
      "metadata": {
        "id": "c9JIvnLqL8Zh"
      },
      "source": [
        "## Implement multilayer perceptron (MLP)"
      ]
    },
    {
      "cell_type": "code",
      "execution_count": null,
      "metadata": {
        "id": "K0XdOBfmL8Zh"
      },
      "outputs": [],
      "source": [
        "\n",
        "def mlp(x, hidden_units, dropout_rate):\n",
        "    for units in hidden_units:\n",
        "        x = layers.Dense(units, activation=tf.nn.gelu)(x)\n",
        "        x = layers.Dropout(dropout_rate)(x)\n",
        "    return x\n"
      ]
    },
    {
      "cell_type": "markdown",
      "metadata": {
        "id": "cY-hGt0_L8Zi"
      },
      "source": [
        "## Implement patch creation as a layer"
      ]
    },
    {
      "cell_type": "code",
      "execution_count": null,
      "metadata": {
        "id": "27SxQsKzL8Zi"
      },
      "outputs": [],
      "source": [
        "\n",
        "class Patches(layers.Layer):\n",
        "    def __init__(self, patch_size):\n",
        "        super(Patches, self).__init__()\n",
        "        self.patch_size = patch_size\n",
        "\n",
        "    def call(self, images):\n",
        "        batch_size = tf.shape(images)[0]\n",
        "        patches = tf.image.extract_patches(\n",
        "            images=images,\n",
        "            sizes=[1, self.patch_size, self.patch_size, 1],\n",
        "            strides=[1, self.patch_size, self.patch_size, 1],\n",
        "            rates=[1, 1, 1, 1],\n",
        "            padding=\"VALID\",\n",
        "        )\n",
        "        patch_dims = patches.shape[-1]\n",
        "        patches = tf.reshape(patches, [batch_size, -1, patch_dims])\n",
        "        return patches\n"
      ]
    },
    {
      "cell_type": "markdown",
      "metadata": {
        "id": "9KdMs59hL8Zi"
      },
      "source": [
        "Let's display patches for a sample image"
      ]
    },
    {
      "cell_type": "code",
      "execution_count": null,
      "metadata": {
        "colab": {
          "base_uri": "https://localhost:8080/",
          "height": 548
        },
        "id": "1D61jEk2L8Zj",
        "outputId": "2412cf6a-162d-44d2-d6d8-bd683b8d6860"
      },
      "outputs": [
        {
          "name": "stdout",
          "output_type": "stream",
          "text": [
            "Image size: 80 X 80\n",
            "Patch size: 6 X 6\n",
            "Patches per image: 169\n",
            "Elements per patch: 108\n"
          ]
        },
        {
          "data": {
            "image/png": "[encoded data removed]",
            "text/plain": [
              "<Figure size 288x288 with 1 Axes>"
            ]
          },
          "metadata": {},
          "output_type": "display_data"
        },
        {
          "data": {
            "image/png": "[encoded data removed]",
            "text/plain": [
              "<Figure size 288x288 with 169 Axes>"
            ]
          },
          "metadata": {},
          "output_type": "display_data"
        }
      ],
      "source": [
        "import matplotlib.pyplot as plt\n",
        "\n",
        "plt.figure(figsize=(4, 4))\n",
        "image = x_train[np.random.choice(range(x_train.shape[0]))]\n",
        "plt.imshow(image.astype(\"uint8\"))\n",
        "plt.axis(\"off\")\n",
        "\n",
        "resized_image = tf.image.resize(\n",
        "    tf.convert_to_tensor([image]), size=(image_size, image_size)\n",
        ")\n",
        "patches = Patches(patch_size)(resized_image)\n",
        "print(f\"Image size: {image_size} X {image_size}\")\n",
        "print(f\"Patch size: {patch_size} X {patch_size}\")\n",
        "print(f\"Patches per image: {patches.shape[1]}\")\n",
        "print(f\"Elements per patch: {patches.shape[-1]}\")\n",
        "\n",
        "n = int(np.sqrt(patches.shape[1]))\n",
        "plt.figure(figsize=(4, 4))\n",
        "for i, patch in enumerate(patches[0]):\n",
        "    ax = plt.subplot(n, n, i + 1)\n",
        "    patch_img = tf.reshape(patch, (patch_size, patch_size, 3))\n",
        "    plt.imshow(patch_img.numpy().astype(\"uint8\"))\n",
        "    plt.axis(\"off\")"
      ]
    },
    {
      "cell_type": "markdown",
      "metadata": {
        "id": "ywRTCStgL8Zj"
      },
      "source": [
        "## Implement the patch encoding layer\n",
        "\n",
        "The `PatchEncoder` layer will linearly transform a patch by projecting it into a\n",
        "vector of size `projection_dim`. In addition, it adds a learnable position\n",
        "embedding to the projected vector."
      ]
    },
    {
      "cell_type": "code",
      "execution_count": null,
      "metadata": {
        "id": "q6VgJJgzL8Zk"
      },
      "outputs": [],
      "source": [
        "\n",
        "class PatchEncoder(layers.Layer):\n",
        "    def __init__(self, num_patches, projection_dim):\n",
        "        super(PatchEncoder, self).__init__()\n",
        "        self.num_patches = num_patches\n",
        "        self.projection = layers.Dense(units=projection_dim)\n",
        "        self.position_embedding = layers.Embedding(\n",
        "            input_dim=num_patches, output_dim=projection_dim\n",
        "        )\n",
        "\n",
        "    def call(self, patch):\n",
        "        positions = tf.range(start=0, limit=self.num_patches, delta=1)\n",
        "        encoded = self.projection(patch) + self.position_embedding(positions)\n",
        "        return encoded\n"
      ]
    },
    {
      "cell_type": "markdown",
      "metadata": {
        "id": "0DqWsHydL8Zk"
      },
      "source": [
        "## Build the ViT model\n",
        "\n",
        "The ViT model consists of multiple Transformer blocks,\n",
        "which use the `layers.MultiHeadAttention` layer as a self-attention mechanism\n",
        "applied to the sequence of patches. The Transformer blocks produce a\n",
        "`[batch_size, num_patches, projection_dim]` tensor, which is processed via an\n",
        "classifier head with softmax to produce the final class probabilities output.\n",
        "\n",
        "Unlike the technique described in the [paper](https://arxiv.org/abs/2010.11929),\n",
        "which prepends a learnable embedding to the sequence of encoded patches to serve\n",
        "as the image representation, all the outputs of the final Transformer block are\n",
        "reshaped with `layers.Flatten()` and used as the image\n",
        "representation input to the classifier head.\n",
        "Note that the `layers.GlobalAveragePooling1D` layer\n",
        "could also be used instead to aggregate the outputs of the Transformer block,\n",
        "especially when the number of patches and the projection dimensions are large."
      ]
    },
    {
      "cell_type": "code",
      "execution_count": null,
      "metadata": {
        "id": "tPl8BmxyL8Zl"
      },
      "outputs": [],
      "source": [
        "\n",
        "def create_vit_classifier():\n",
        "    inputs = layers.Input(shape=input_shape)\n",
        "    # Augment data.\n",
        "    augmented = data_augmentation(inputs)\n",
        "    # Create patches.\n",
        "    patches = Patches(patch_size)(augmented)\n",
        "    # Encode patches.\n",
        "    encoded_patches = PatchEncoder(num_patches, projection_dim)(patches)\n",
        "\n",
        "    # Create multiple layers of the Transformer block.\n",
        "    for _ in range(transformer_layers):\n",
        "        # Layer normalization 1.\n",
        "        x1 = layers.LayerNormalization(epsilon=1e-6)(encoded_patches)\n",
        "        # Create a multi-head attention layer.\n",
        "        attention_output = layers.MultiHeadAttention(\n",
        "            num_heads=num_heads, key_dim=projection_dim, dropout=0.1\n",
        "        )(x1, x1)\n",
        "        # Skip connection 1.\n",
        "        x2 = layers.Add()([attention_output, encoded_patches])\n",
        "        # Layer normalization 2.\n",
        "        x3 = layers.LayerNormalization(epsilon=1e-6)(x2)\n",
        "        # MLP.\n",
        "        x3 = mlp(x3, hidden_units=transformer_units, dropout_rate=0.1)\n",
        "        # Skip connection 2.\n",
        "        encoded_patches = layers.Add()([x3, x2])\n",
        "\n",
        "    # Create a [batch_size, projection_dim] tensor.\n",
        "    representation = layers.LayerNormalization(epsilon=1e-6)(encoded_patches)\n",
        "    representation = layers.Flatten()(representation)\n",
        "    representation = layers.Dropout(0.5)(representation)\n",
        "    # Add MLP.\n",
        "    features = mlp(representation, hidden_units=mlp_head_units, dropout_rate=0.5)\n",
        "    # Classify outputs.\n",
        "    logits = layers.Dense(num_classes)(features)\n",
        "    # Create the Keras model.\n",
        "    model = keras.Model(inputs=inputs, outputs=logits)\n",
        "    return model\n"
      ]
    },
    {
      "cell_type": "markdown",
      "metadata": {
        "id": "FSsHHyWwL8Zl"
      },
      "source": [
        "## Compile, train, and evaluate the mode"
      ]
    },
    {
      "cell_type": "code",
      "execution_count": null,
      "metadata": {
        "colab": {
          "background_save": true,
          "base_uri": "https://localhost:8080/"
        },
        "id": "s4ndlwvTL8Zl",
        "outputId": "2cb2b099-f46a-4729-fb19-2fc67bf92d71"
      },
      "outputs": [
        {
          "name": "stdout",
          "output_type": "stream",
          "text": [
            "Epoch 1/100\n",
            "7/7 [==============================] - 168s 21s/step - loss: 1.2495 - accuracy: 0.8814 - top-5-accuracy: 1.0000 - val_loss: 5.9344 - val_accuracy: 0.8031 - val_top-5-accuracy: 1.0000\n",
            "Epoch 2/100\n",
            "7/7 [==============================] - 140s 20s/step - loss: 0.6897 - accuracy: 0.9724 - top-5-accuracy: 1.0000 - val_loss: 2.6350 - val_accuracy: 0.9119 - val_top-5-accuracy: 1.0000\n",
            "Epoch 3/100\n",
            "7/7 [==============================] - 143s 20s/step - loss: 0.2217 - accuracy: 0.9758 - top-5-accuracy: 1.0000 - val_loss: 0.2665 - val_accuracy: 0.9585 - val_top-5-accuracy: 1.0000\n",
            "Epoch 4/100\n",
            "7/7 [==============================] - 138s 20s/step - loss: 0.2770 - accuracy: 0.9775 - top-5-accuracy: 1.0000 - val_loss: 0.6261 - val_accuracy: 0.9637 - val_top-5-accuracy: 1.0000\n",
            "Epoch 5/100\n",
            "7/7 [==============================] - 148s 21s/step - loss: 0.2610 - accuracy: 0.9850 - top-5-accuracy: 1.0000 - val_loss: 0.2273 - val_accuracy: 0.9896 - val_top-5-accuracy: 1.0000\n",
            "Epoch 6/100\n",
            "7/7 [==============================] - 138s 20s/step - loss: 0.1523 - accuracy: 0.9839 - top-5-accuracy: 1.0000 - val_loss: 0.1627 - val_accuracy: 0.9845 - val_top-5-accuracy: 1.0000\n",
            "Epoch 7/100\n",
            "7/7 [==============================] - 139s 20s/step - loss: 0.2188 - accuracy: 0.9799 - top-5-accuracy: 1.0000 - val_loss: 2.4438 - val_accuracy: 0.7150 - val_top-5-accuracy: 1.0000\n",
            "Epoch 8/100\n",
            "7/7 [==============================] - 137s 20s/step - loss: 0.1404 - accuracy: 0.9833 - top-5-accuracy: 1.0000 - val_loss: 0.0852 - val_accuracy: 0.9896 - val_top-5-accuracy: 1.0000\n",
            "Epoch 9/100\n",
            "7/7 [==============================] - 143s 21s/step - loss: 0.1154 - accuracy: 0.9856 - top-5-accuracy: 1.0000 - val_loss: 0.1483 - val_accuracy: 0.9637 - val_top-5-accuracy: 1.0000\n",
            "Epoch 10/100\n",
            "7/7 [==============================] - 140s 20s/step - loss: 0.0874 - accuracy: 0.9839 - top-5-accuracy: 1.0000 - val_loss: 0.2182 - val_accuracy: 0.9430 - val_top-5-accuracy: 1.0000\n",
            "Epoch 11/100\n",
            "7/7 [==============================] - 138s 20s/step - loss: 0.0634 - accuracy: 0.9885 - top-5-accuracy: 1.0000 - val_loss: 0.4422 - val_accuracy: 0.8860 - val_top-5-accuracy: 1.0000\n",
            "Epoch 12/100\n",
            "7/7 [==============================] - 139s 20s/step - loss: 0.0476 - accuracy: 0.9908 - top-5-accuracy: 1.0000 - val_loss: 0.1785 - val_accuracy: 0.9585 - val_top-5-accuracy: 1.0000\n",
            "Epoch 13/100\n",
            "7/7 [==============================] - 142s 20s/step - loss: 0.0341 - accuracy: 0.9902 - top-5-accuracy: 1.0000 - val_loss: 0.1740 - val_accuracy: 0.9430 - val_top-5-accuracy: 1.0000\n",
            "Epoch 14/100\n",
            "7/7 [==============================] - 143s 20s/step - loss: 0.0163 - accuracy: 0.9948 - top-5-accuracy: 1.0000 - val_loss: 0.1840 - val_accuracy: 0.9430 - val_top-5-accuracy: 1.0000\n",
            "Epoch 15/100\n",
            "7/7 [==============================] - 137s 20s/step - loss: 0.0474 - accuracy: 0.9896 - top-5-accuracy: 1.0000 - val_loss: 0.1299 - val_accuracy: 0.9741 - val_top-5-accuracy: 1.0000\n",
            "Epoch 16/100\n",
            "7/7 [==============================] - 139s 20s/step - loss: 0.0433 - accuracy: 0.9914 - top-5-accuracy: 1.0000 - val_loss: 0.2531 - val_accuracy: 0.9223 - val_top-5-accuracy: 1.0000\n",
            "Epoch 17/100\n",
            "7/7 [==============================] - 136s 20s/step - loss: 0.0318 - accuracy: 0.9931 - top-5-accuracy: 1.0000 - val_loss: 0.3161 - val_accuracy: 0.9223 - val_top-5-accuracy: 1.0000\n",
            "Epoch 18/100\n",
            "7/7 [==============================] - 147s 21s/step - loss: 0.0505 - accuracy: 0.9919 - top-5-accuracy: 1.0000 - val_loss: 0.3516 - val_accuracy: 0.9171 - val_top-5-accuracy: 1.0000\n",
            "Epoch 19/100\n",
            "7/7 [==============================] - 138s 20s/step - loss: 0.0206 - accuracy: 0.9937 - top-5-accuracy: 1.0000 - val_loss: 0.1851 - val_accuracy: 0.9326 - val_top-5-accuracy: 1.0000\n",
            "Epoch 20/100\n",
            "7/7 [==============================] - 137s 20s/step - loss: 0.0315 - accuracy: 0.9891 - top-5-accuracy: 1.0000 - val_loss: 0.1616 - val_accuracy: 0.9534 - val_top-5-accuracy: 1.0000\n",
            "Epoch 21/100\n",
            "7/7 [==============================] - 138s 20s/step - loss: 0.0346 - accuracy: 0.9896 - top-5-accuracy: 1.0000 - val_loss: 0.2071 - val_accuracy: 0.9430 - val_top-5-accuracy: 1.0000\n",
            "Epoch 22/100\n",
            "7/7 [==============================] - 145s 21s/step - loss: 0.0152 - accuracy: 0.9948 - top-5-accuracy: 1.0000 - val_loss: 0.1649 - val_accuracy: 0.9223 - val_top-5-accuracy: 1.0000\n",
            "Epoch 23/100\n",
            "7/7 [==============================] - 139s 20s/step - loss: 0.0250 - accuracy: 0.9925 - top-5-accuracy: 1.0000 - val_loss: 0.2106 - val_accuracy: 0.9585 - val_top-5-accuracy: 1.0000\n",
            "Epoch 24/100\n",
            "7/7 [==============================] - 137s 20s/step - loss: 0.0140 - accuracy: 0.9960 - top-5-accuracy: 1.0000 - val_loss: 0.3174 - val_accuracy: 0.9482 - val_top-5-accuracy: 1.0000\n",
            "Epoch 25/100\n",
            "7/7 [==============================] - 140s 20s/step - loss: 0.0214 - accuracy: 0.9948 - top-5-accuracy: 1.0000 - val_loss: 0.1608 - val_accuracy: 0.9585 - val_top-5-accuracy: 1.0000\n",
            "Epoch 26/100\n",
            "7/7 [==============================] - 138s 20s/step - loss: 0.0087 - accuracy: 0.9971 - top-5-accuracy: 1.0000 - val_loss: 0.1870 - val_accuracy: 0.9482 - val_top-5-accuracy: 1.0000\n",
            "Epoch 27/100\n",
            "7/7 [==============================] - 145s 20s/step - loss: 0.0171 - accuracy: 0.9948 - top-5-accuracy: 1.0000 - val_loss: 0.1401 - val_accuracy: 0.9637 - val_top-5-accuracy: 1.0000\n",
            "Epoch 28/100\n",
            "7/7 [==============================] - 137s 20s/step - loss: 0.0309 - accuracy: 0.9925 - top-5-accuracy: 1.0000 - val_loss: 0.0615 - val_accuracy: 0.9793 - val_top-5-accuracy: 1.0000\n",
            "Epoch 29/100\n",
            "7/7 [==============================] - 139s 20s/step - loss: 0.0179 - accuracy: 0.9948 - top-5-accuracy: 1.0000 - val_loss: 0.5278 - val_accuracy: 0.9275 - val_top-5-accuracy: 1.0000\n",
            "Epoch 30/100\n",
            "7/7 [==============================] - 137s 20s/step - loss: 0.0419 - accuracy: 0.9942 - top-5-accuracy: 1.0000 - val_loss: 0.1594 - val_accuracy: 0.9741 - val_top-5-accuracy: 1.0000\n",
            "Epoch 31/100\n",
            "7/7 [==============================] - 146s 21s/step - loss: 0.0337 - accuracy: 0.9873 - top-5-accuracy: 1.0000 - val_loss: 0.2388 - val_accuracy: 0.9326 - val_top-5-accuracy: 1.0000\n",
            "Epoch 32/100\n",
            "7/7 [==============================] - 140s 20s/step - loss: 0.0214 - accuracy: 0.9937 - top-5-accuracy: 1.0000 - val_loss: 0.3067 - val_accuracy: 0.9223 - val_top-5-accuracy: 1.0000\n",
            "Epoch 33/100\n",
            "7/7 [==============================] - 138s 20s/step - loss: 0.0187 - accuracy: 0.9931 - top-5-accuracy: 1.0000 - val_loss: 0.1408 - val_accuracy: 0.9637 - val_top-5-accuracy: 1.0000\n",
            "Epoch 34/100\n",
            "7/7 [==============================] - 139s 20s/step - loss: 0.0263 - accuracy: 0.9937 - top-5-accuracy: 1.0000 - val_loss: 0.1286 - val_accuracy: 0.9793 - val_top-5-accuracy: 1.0000\n",
            "Epoch 35/100\n",
            "7/7 [==============================] - 143s 21s/step - loss: 0.0210 - accuracy: 0.9948 - top-5-accuracy: 1.0000 - val_loss: 0.3387 - val_accuracy: 0.9326 - val_top-5-accuracy: 1.0000\n",
            "Epoch 36/100\n",
            "7/7 [==============================] - 142s 20s/step - loss: 0.0216 - accuracy: 0.9942 - top-5-accuracy: 1.0000 - val_loss: 0.1568 - val_accuracy: 0.9741 - val_top-5-accuracy: 1.0000\n",
            "Epoch 37/100\n",
            "7/7 [==============================] - 139s 20s/step - loss: 0.0261 - accuracy: 0.9931 - top-5-accuracy: 1.0000 - val_loss: 0.3343 - val_accuracy: 0.9326 - val_top-5-accuracy: 1.0000\n",
            "Epoch 38/100\n",
            "7/7 [==============================] - 140s 20s/step - loss: 0.0236 - accuracy: 0.9960 - top-5-accuracy: 1.0000 - val_loss: 0.3818 - val_accuracy: 0.9067 - val_top-5-accuracy: 1.0000\n",
            "Epoch 39/100\n",
            "7/7 [==============================] - 137s 20s/step - loss: 0.0116 - accuracy: 0.9960 - top-5-accuracy: 1.0000 - val_loss: 0.1519 - val_accuracy: 0.9637 - val_top-5-accuracy: 1.0000\n",
            "Epoch 40/100\n",
            "7/7 [==============================] - 145s 20s/step - loss: 0.0363 - accuracy: 0.9931 - top-5-accuracy: 1.0000 - val_loss: 0.7318 - val_accuracy: 0.8808 - val_top-5-accuracy: 1.0000\n",
            "Epoch 41/100\n",
            "7/7 [==============================] - 137s 20s/step - loss: 0.0263 - accuracy: 0.9902 - top-5-accuracy: 1.0000 - val_loss: 0.2832 - val_accuracy: 0.9378 - val_top-5-accuracy: 1.0000\n",
            "Epoch 42/100\n",
            "7/7 [==============================] - 138s 20s/step - loss: 0.0131 - accuracy: 0.9948 - top-5-accuracy: 1.0000 - val_loss: 0.2938 - val_accuracy: 0.9482 - val_top-5-accuracy: 1.0000\n",
            "Epoch 43/100\n",
            "7/7 [==============================] - 137s 20s/step - loss: 0.0126 - accuracy: 0.9971 - top-5-accuracy: 1.0000 - val_loss: 0.3090 - val_accuracy: 0.9430 - val_top-5-accuracy: 1.0000\n",
            "Epoch 44/100\n",
            "7/7 [==============================] - 145s 21s/step - loss: 0.0070 - accuracy: 0.9965 - top-5-accuracy: 1.0000 - val_loss: 0.2939 - val_accuracy: 0.9378 - val_top-5-accuracy: 1.0000\n",
            "Epoch 45/100\n",
            "7/7 [==============================] - 137s 20s/step - loss: 0.0212 - accuracy: 0.9942 - top-5-accuracy: 1.0000 - val_loss: 0.3169 - val_accuracy: 0.9326 - val_top-5-accuracy: 1.0000\n",
            "Epoch 46/100\n",
            "7/7 [==============================] - 137s 19s/step - loss: 0.0144 - accuracy: 0.9954 - top-5-accuracy: 1.0000 - val_loss: 0.3642 - val_accuracy: 0.9171 - val_top-5-accuracy: 1.0000\n",
            "Epoch 47/100\n",
            "7/7 [==============================] - 136s 19s/step - loss: 0.0075 - accuracy: 0.9971 - top-5-accuracy: 1.0000 - val_loss: 0.2189 - val_accuracy: 0.9482 - val_top-5-accuracy: 1.0000\n",
            "Epoch 48/100\n",
            "7/7 [==============================] - 142s 20s/step - loss: 0.0087 - accuracy: 0.9960 - top-5-accuracy: 1.0000 - val_loss: 0.3947 - val_accuracy: 0.9326 - val_top-5-accuracy: 1.0000\n",
            "Epoch 49/100\n",
            "7/7 [==============================] - 140s 20s/step - loss: 0.0159 - accuracy: 0.9977 - top-5-accuracy: 1.0000 - val_loss: 0.2453 - val_accuracy: 0.9534 - val_top-5-accuracy: 1.0000\n",
            "Epoch 50/100\n",
            "7/7 [==============================] - 136s 20s/step - loss: 0.0126 - accuracy: 0.9971 - top-5-accuracy: 1.0000 - val_loss: 0.2065 - val_accuracy: 0.9482 - val_top-5-accuracy: 1.0000\n",
            "Epoch 51/100\n",
            "7/7 [==============================] - 137s 20s/step - loss: 0.0116 - accuracy: 0.9971 - top-5-accuracy: 1.0000 - val_loss: 0.1785 - val_accuracy: 0.9482 - val_top-5-accuracy: 1.0000\n",
            "Epoch 52/100\n",
            "7/7 [==============================] - 136s 19s/step - loss: 0.0167 - accuracy: 0.9965 - top-5-accuracy: 1.0000 - val_loss: 0.1090 - val_accuracy: 0.9637 - val_top-5-accuracy: 1.0000\n",
            "Epoch 53/100\n",
            "7/7 [==============================] - 146s 21s/step - loss: 0.0109 - accuracy: 0.9960 - top-5-accuracy: 1.0000 - val_loss: 0.1498 - val_accuracy: 0.9585 - val_top-5-accuracy: 1.0000\n",
            "Epoch 54/100\n",
            "7/7 [==============================] - 137s 20s/step - loss: 0.0094 - accuracy: 0.9971 - top-5-accuracy: 1.0000 - val_loss: 0.4250 - val_accuracy: 0.9171 - val_top-5-accuracy: 1.0000\n",
            "Epoch 55/100\n",
            "7/7 [==============================] - 138s 20s/step - loss: 0.0103 - accuracy: 0.9965 - top-5-accuracy: 1.0000 - val_loss: 0.1429 - val_accuracy: 0.9689 - val_top-5-accuracy: 1.0000\n",
            "Epoch 56/100\n",
            "7/7 [==============================] - 137s 20s/step - loss: 0.0104 - accuracy: 0.9960 - top-5-accuracy: 1.0000 - val_loss: 0.4064 - val_accuracy: 0.9067 - val_top-5-accuracy: 1.0000\n",
            "Epoch 57/100\n",
            "7/7 [==============================] - 142s 20s/step - loss: 0.0152 - accuracy: 0.9971 - top-5-accuracy: 1.0000 - val_loss: 0.1374 - val_accuracy: 0.9585 - val_top-5-accuracy: 1.0000\n",
            "Epoch 58/100\n",
            "7/7 [==============================] - 138s 20s/step - loss: 0.0041 - accuracy: 0.9983 - top-5-accuracy: 1.0000 - val_loss: 0.3332 - val_accuracy: 0.9275 - val_top-5-accuracy: 1.0000\n",
            "Epoch 59/100\n",
            "7/7 [==============================] - 136s 19s/step - loss: 0.0023 - accuracy: 0.9983 - top-5-accuracy: 1.0000 - val_loss: 0.1829 - val_accuracy: 0.9326 - val_top-5-accuracy: 1.0000\n",
            "Epoch 60/100\n",
            "7/7 [==============================] - 137s 19s/step - loss: 0.0084 - accuracy: 0.9971 - top-5-accuracy: 1.0000 - val_loss: 0.5266 - val_accuracy: 0.8964 - val_top-5-accuracy: 1.0000\n",
            "Epoch 61/100\n",
            "7/7 [==============================] - 137s 20s/step - loss: 0.0125 - accuracy: 0.9965 - top-5-accuracy: 1.0000 - val_loss: 0.2211 - val_accuracy: 0.9689 - val_top-5-accuracy: 1.0000\n",
            "Epoch 62/100\n",
            "7/7 [==============================] - 143s 20s/step - loss: 0.0213 - accuracy: 0.9948 - top-5-accuracy: 1.0000 - val_loss: 0.7009 - val_accuracy: 0.9067 - val_top-5-accuracy: 1.0000\n",
            "Epoch 63/100\n",
            "7/7 [==============================] - 138s 20s/step - loss: 0.0094 - accuracy: 0.9960 - top-5-accuracy: 1.0000 - val_loss: 0.5913 - val_accuracy: 0.9326 - val_top-5-accuracy: 1.0000\n",
            "Epoch 64/100\n",
            "7/7 [==============================] - 136s 19s/step - loss: 0.0187 - accuracy: 0.9954 - top-5-accuracy: 1.0000 - val_loss: 0.4792 - val_accuracy: 0.9275 - val_top-5-accuracy: 1.0000\n",
            "Epoch 65/100\n",
            "7/7 [==============================] - 138s 20s/step - loss: 0.0197 - accuracy: 0.9942 - top-5-accuracy: 1.0000 - val_loss: 0.2173 - val_accuracy: 0.9637 - val_top-5-accuracy: 1.0000\n",
            "Epoch 66/100\n",
            "7/7 [==============================] - 144s 21s/step - loss: 0.0156 - accuracy: 0.9954 - top-5-accuracy: 1.0000 - val_loss: 0.2519 - val_accuracy: 0.9585 - val_top-5-accuracy: 1.0000\n",
            "Epoch 67/100\n",
            "7/7 [==============================] - 137s 20s/step - loss: 0.0096 - accuracy: 0.9965 - top-5-accuracy: 1.0000 - val_loss: 0.1673 - val_accuracy: 0.9637 - val_top-5-accuracy: 1.0000\n",
            "Epoch 68/100\n",
            "7/7 [==============================] - 139s 20s/step - loss: 0.0080 - accuracy: 0.9977 - top-5-accuracy: 1.0000 - val_loss: 0.5179 - val_accuracy: 0.9016 - val_top-5-accuracy: 1.0000\n",
            "Epoch 69/100\n",
            "7/7 [==============================] - 140s 20s/step - loss: 0.0085 - accuracy: 0.9988 - top-5-accuracy: 1.0000 - val_loss: 0.2873 - val_accuracy: 0.9534 - val_top-5-accuracy: 1.0000\n",
            "Epoch 70/100\n",
            "7/7 [==============================] - 143s 21s/step - loss: 0.0126 - accuracy: 0.9977 - top-5-accuracy: 1.0000 - val_loss: 0.4205 - val_accuracy: 0.9430 - val_top-5-accuracy: 1.0000\n",
            "Epoch 71/100\n",
            "7/7 [==============================] - 141s 20s/step - loss: 0.0096 - accuracy: 0.9965 - top-5-accuracy: 1.0000 - val_loss: 0.3326 - val_accuracy: 0.9378 - val_top-5-accuracy: 1.0000\n",
            "Epoch 72/100\n",
            "7/7 [==============================] - 140s 20s/step - loss: 0.0108 - accuracy: 0.9971 - top-5-accuracy: 1.0000 - val_loss: 0.2444 - val_accuracy: 0.9482 - val_top-5-accuracy: 1.0000\n",
            "Epoch 73/100\n",
            "7/7 [==============================] - 138s 20s/step - loss: 0.0046 - accuracy: 0.9988 - top-5-accuracy: 1.0000 - val_loss: 0.3881 - val_accuracy: 0.9171 - val_top-5-accuracy: 1.0000\n",
            "Epoch 74/100\n",
            "7/7 [==============================] - 139s 20s/step - loss: 0.0154 - accuracy: 0.9971 - top-5-accuracy: 1.0000 - val_loss: 0.1682 - val_accuracy: 0.9845 - val_top-5-accuracy: 1.0000\n",
            "Epoch 75/100\n",
            "7/7 [==============================] - 145s 21s/step - loss: 0.0081 - accuracy: 0.9983 - top-5-accuracy: 1.0000 - val_loss: 0.4767 - val_accuracy: 0.8912 - val_top-5-accuracy: 1.0000\n",
            "Epoch 76/100\n",
            "7/7 [==============================] - 140s 20s/step - loss: 0.0032 - accuracy: 0.9983 - top-5-accuracy: 1.0000 - val_loss: 0.2485 - val_accuracy: 0.9585 - val_top-5-accuracy: 1.0000\n",
            "Epoch 77/100\n",
            "7/7 [==============================] - 139s 20s/step - loss: 0.0034 - accuracy: 0.9988 - top-5-accuracy: 1.0000 - val_loss: 0.4477 - val_accuracy: 0.9430 - val_top-5-accuracy: 1.0000\n",
            "Epoch 78/100\n",
            "7/7 [==============================] - 140s 20s/step - loss: 0.0101 - accuracy: 0.9977 - top-5-accuracy: 1.0000 - val_loss: 0.3172 - val_accuracy: 0.9637 - val_top-5-accuracy: 1.0000\n",
            "Epoch 79/100\n",
            "7/7 [==============================] - 145s 21s/step - loss: 0.0041 - accuracy: 0.9988 - top-5-accuracy: 1.0000 - val_loss: 0.4070 - val_accuracy: 0.9378 - val_top-5-accuracy: 1.0000\n",
            "Epoch 80/100\n",
            "7/7 [==============================] - 138s 20s/step - loss: 0.0065 - accuracy: 0.9965 - top-5-accuracy: 1.0000 - val_loss: 0.5120 - val_accuracy: 0.9326 - val_top-5-accuracy: 1.0000\n",
            "Epoch 81/100\n",
            "7/7 [==============================] - 138s 20s/step - loss: 0.0190 - accuracy: 0.9954 - top-5-accuracy: 1.0000 - val_loss: 0.3526 - val_accuracy: 0.9585 - val_top-5-accuracy: 1.0000\n",
            "Epoch 82/100\n",
            "7/7 [==============================] - 139s 20s/step - loss: 0.0157 - accuracy: 0.9965 - top-5-accuracy: 1.0000 - val_loss: 0.2733 - val_accuracy: 0.9430 - val_top-5-accuracy: 1.0000\n",
            "Epoch 83/100\n",
            "7/7 [==============================] - 144s 21s/step - loss: 0.0083 - accuracy: 0.9965 - top-5-accuracy: 1.0000 - val_loss: 0.3572 - val_accuracy: 0.9067 - val_top-5-accuracy: 1.0000\n",
            "Epoch 84/100\n",
            "7/7 [==============================] - 141s 20s/step - loss: 0.0058 - accuracy: 0.9965 - top-5-accuracy: 1.0000 - val_loss: 0.3310 - val_accuracy: 0.9275 - val_top-5-accuracy: 1.0000\n",
            "Epoch 85/100\n",
            "7/7 [==============================] - 137s 20s/step - loss: 0.0072 - accuracy: 0.9971 - top-5-accuracy: 1.0000 - val_loss: 0.1696 - val_accuracy: 0.9637 - val_top-5-accuracy: 1.0000\n",
            "Epoch 86/100\n",
            "7/7 [==============================] - 139s 20s/step - loss: 0.0036 - accuracy: 0.9983 - top-5-accuracy: 1.0000 - val_loss: 0.5228 - val_accuracy: 0.8964 - val_top-5-accuracy: 1.0000\n",
            "Epoch 87/100\n",
            "7/7 [==============================] - 139s 20s/step - loss: 0.0044 - accuracy: 0.9971 - top-5-accuracy: 1.0000 - val_loss: 0.1856 - val_accuracy: 0.9741 - val_top-5-accuracy: 1.0000\n",
            "Epoch 88/100\n",
            "7/7 [==============================] - 146s 21s/step - loss: 0.0087 - accuracy: 0.9983 - top-5-accuracy: 1.0000 - val_loss: 0.2147 - val_accuracy: 0.9585 - val_top-5-accuracy: 1.0000\n",
            "Epoch 89/100\n",
            "7/7 [==============================] - 140s 20s/step - loss: 0.0107 - accuracy: 0.9971 - top-5-accuracy: 1.0000 - val_loss: 0.4240 - val_accuracy: 0.9275 - val_top-5-accuracy: 1.0000\n",
            "Epoch 90/100\n",
            "7/7 [==============================] - 138s 20s/step - loss: 0.0106 - accuracy: 0.9977 - top-5-accuracy: 1.0000 - val_loss: 0.7270 - val_accuracy: 0.9119 - val_top-5-accuracy: 1.0000\n",
            "Epoch 91/100\n",
            "7/7 [==============================] - 140s 20s/step - loss: 0.0067 - accuracy: 0.9965 - top-5-accuracy: 1.0000 - val_loss: 0.6464 - val_accuracy: 0.9585 - val_top-5-accuracy: 1.0000\n",
            "Epoch 92/100\n",
            "7/7 [==============================] - 146s 21s/step - loss: 0.0102 - accuracy: 0.9965 - top-5-accuracy: 1.0000 - val_loss: 0.6374 - val_accuracy: 0.9430 - val_top-5-accuracy: 1.0000\n",
            "Epoch 93/100\n",
            "7/7 [==============================] - 140s 20s/step - loss: 0.0210 - accuracy: 0.9937 - top-5-accuracy: 1.0000 - val_loss: 0.3571 - val_accuracy: 0.9430 - val_top-5-accuracy: 1.0000\n",
            "Epoch 94/100\n",
            "7/7 [==============================] - 139s 20s/step - loss: 0.0255 - accuracy: 0.9948 - top-5-accuracy: 1.0000 - val_loss: 0.3272 - val_accuracy: 0.9223 - val_top-5-accuracy: 1.0000\n",
            "Epoch 95/100\n",
            "7/7 [==============================] - 140s 20s/step - loss: 0.0053 - accuracy: 0.9971 - top-5-accuracy: 1.0000 - val_loss: 0.5862 - val_accuracy: 0.9326 - val_top-5-accuracy: 1.0000\n",
            "Epoch 96/100\n",
            "7/7 [==============================] - 142s 20s/step - loss: 0.0333 - accuracy: 0.9919 - top-5-accuracy: 1.0000 - val_loss: 0.3974 - val_accuracy: 0.8756 - val_top-5-accuracy: 1.0000\n",
            "Epoch 97/100\n",
            "7/7 [==============================] - 141s 20s/step - loss: 0.0265 - accuracy: 0.9931 - top-5-accuracy: 1.0000 - val_loss: 0.1765 - val_accuracy: 0.9585 - val_top-5-accuracy: 1.0000\n",
            "Epoch 98/100\n",
            "7/7 [==============================] - 139s 20s/step - loss: 0.0149 - accuracy: 0.9954 - top-5-accuracy: 1.0000 - val_loss: 0.3530 - val_accuracy: 0.9275 - val_top-5-accuracy: 1.0000\n",
            "Epoch 99/100\n",
            "7/7 [==============================] - 139s 20s/step - loss: 0.0074 - accuracy: 0.9983 - top-5-accuracy: 1.0000 - val_loss: 0.2041 - val_accuracy: 0.9482 - val_top-5-accuracy: 1.0000\n",
            "Epoch 100/100\n",
            "7/7 [==============================] - 139s 20s/step - loss: 0.0079 - accuracy: 0.9971 - top-5-accuracy: 1.0000 - val_loss: 0.2445 - val_accuracy: 0.9275 - val_top-5-accuracy: 1.0000\n",
            "61/61 [==============================] - 48s 781ms/step - loss: 0.1970 - accuracy: 0.9808 - top-5-accuracy: 1.0000\n",
            "Test accuracy: 98.08%\n",
            "Test top 5 accuracy: 100.0%\n"
          ]
        }
      ],
      "source": [
        "\n",
        "def run_experiment(model):\n",
        "    optimizer = tfa.optimizers.AdamW(\n",
        "        learning_rate=learning_rate, weight_decay=weight_decay\n",
        "    )\n",
        "\n",
        "    model.compile(\n",
        "        optimizer=optimizer,\n",
        "        loss=keras.losses.SparseCategoricalCrossentropy(from_logits=True),\n",
        "        metrics=[\n",
        "            keras.metrics.SparseCategoricalAccuracy(name=\"accuracy\"),\n",
        "            keras.metrics.SparseTopKCategoricalAccuracy(5, name=\"top-5-accuracy\"),\n",
        "        ],\n",
        "    )\n",
        "\n",
        "    checkpoint_filepath = \"/tmp/checkpoint\"\n",
        "    checkpoint_callback = keras.callbacks.ModelCheckpoint(\n",
        "        checkpoint_filepath,\n",
        "        monitor=\"val_accuracy\",\n",
        "        save_best_only=True,\n",
        "        save_weights_only=True,\n",
        "    )\n",
        "\n",
        "    history = model.fit(\n",
        "        x=x_train,\n",
        "        y=y_train,\n",
        "        batch_size=batch_size,\n",
        "        epochs=num_epochs,\n",
        "        validation_split=0.1,\n",
        "        callbacks=[checkpoint_callback],\n",
        "    )\n",
        "\n",
        "    model.load_weights(checkpoint_filepath)\n",
        "    _, accuracy, top_5_accuracy = model.evaluate(x_test, y_test)\n",
        "    print(f\"Test accuracy: {round(accuracy * 100, 2)}%\")\n",
        "    print(f\"Test top 5 accuracy: {round(top_5_accuracy * 100, 2)}%\")\n",
        "\n",
        "    return history\n",
        "\n",
        "\n",
        "vit_classifier = create_vit_classifier()\n",
        "history = run_experiment(vit_classifier)\n"
      ]
    }
  ],
  "metadata": {
    "colab": {
      "collapsed_sections": [],
      "name": "Strawberry_classification_with_vision_transformer.ipynb",
      "provenance": []
    },
    "environment": {
      "name": "tf2-gpu.2-4.m61",
      "type": "gcloud",
      "uri": "gcr.io/deeplearning-platform-release/tf2-gpu.2-4:m61"
    },
    "kernelspec": {
      "display_name": "Python 3",
      "language": "python",
      "name": "python3"
    },
    "language_info": {
      "codemirror_mode": {
        "name": "ipython",
        "version": 3
      },
      "file_extension": ".py",
      "mimetype": "text/x-python",
      "name": "python",
      "nbconvert_exporter": "python",
      "pygments_lexer": "ipython3",
      "version": "3.7.9"
    }
  },
  "nbformat": 4,
  "nbformat_minor": 0
}